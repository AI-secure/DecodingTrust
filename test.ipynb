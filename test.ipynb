{
 "cells": [
  {
   "cell_type": "code",
   "execution_count": 1,
   "metadata": {},
   "outputs": [],
   "source": [
    "import os\n",
    "import json\n",
    "\n",
    "import numpy as np\n",
    "import pandas as pd\n",
    "from glob import glob\n",
    "\n",
    "\n",
    "RESULT_DIR = \"./results\""
   ]
  },
  {
   "cell_type": "code",
   "execution_count": 2,
   "metadata": {},
   "outputs": [],
   "source": [
    "out_path = \"./results/harmfulness/generations/openai/gpt-3.5-turbo-0301_cate_2.jsonl\""
   ]
  },
  {
   "cell_type": "code",
   "execution_count": 9,
   "metadata": {},
   "outputs": [],
   "source": [
    "from pathlib import Path\n",
    "def get_files_in_same_folder(file_path):\n",
    "    given_file_path = Path(file_path)\n",
    "    parent_directory = given_file_path.parent\n",
    "    \n",
    "    # List all files in the parent directory\n",
    "    files_in_same_folder = ['./'+str(file) for file in parent_directory.iterdir() if file.is_file()]\n",
    "    return files_in_same_folder"
   ]
  },
  {
   "cell_type": "code",
   "execution_count": 10,
   "metadata": {},
   "outputs": [],
   "source": [
    "all_files = get_files_in_same_folder(out_path)"
   ]
  },
  {
   "cell_type": "code",
   "execution_count": 11,
   "metadata": {},
   "outputs": [
    {
     "data": {
      "text/plain": [
       "['./results/harmfulness/generations/openai/gpt-3.5-turbo-0301_category_1_key_words_results.jsonl',\n",
       " './results/harmfulness/generations/openai/gpt-3.5-turbo-0301_cate_2.jsonl',\n",
       " './results/harmfulness/generations/openai/gpt-3.5-turbo-0301_cate_1.jsonl',\n",
       " './results/harmfulness/generations/openai/gpt-3.5-turbo-0301_category_2_key_words_results.jsonl']"
      ]
     },
     "execution_count": 11,
     "metadata": {},
     "output_type": "execute_result"
    }
   ],
   "source": [
    "all_files"
   ]
  },
  {
   "cell_type": "code",
   "execution_count": 12,
   "metadata": {},
   "outputs": [],
   "source": [
    "folder_path = './results/harmfulness/generations/'\n",
    "model = 'openai/gpt-3.5-turbo-0301'\n",
    "method = 'key_words'\n"
   ]
  },
  {
   "cell_type": "code",
   "execution_count": 13,
   "metadata": {},
   "outputs": [],
   "source": [
    "matching_files = [f for f in all_files if f.startswith(os.path.join(folder_path, model)) and f.endswith(method + \"_results.jsonl\")]"
   ]
  },
  {
   "cell_type": "code",
   "execution_count": 14,
   "metadata": {},
   "outputs": [
    {
     "data": {
      "text/plain": [
       "['./results/harmfulness/generations/openai/gpt-3.5-turbo-0301_category_1_key_words_results.jsonl',\n",
       " './results/harmfulness/generations/openai/gpt-3.5-turbo-0301_category_2_key_words_results.jsonl']"
      ]
     },
     "execution_count": 14,
     "metadata": {},
     "output_type": "execute_result"
    }
   ],
   "source": [
    "matching_files"
   ]
  },
  {
   "cell_type": "code",
   "execution_count": 15,
   "metadata": {},
   "outputs": [
    {
     "name": "stdout",
     "output_type": "stream",
     "text": [
      "File: ./results/harmfulness/generations//openai/gpt-3.5-turbo-0301_category_1_key_words_results.jsonl\n",
      "Jailbreak count: 0\n",
      "Total rows: 20\n",
      "File: ./results/harmfulness/generations//openai/gpt-3.5-turbo-0301_category_2_key_words_results.jsonl\n",
      "Jailbreak count: 1\n",
      "Total rows: 20\n"
     ]
    }
   ],
   "source": [
    "total_jailbreak_count = 0\n",
    "total_row_count = 0\n",
    "\n",
    "for cate_idx in range(2):\n",
    "    file_path = f\"{folder_path}/{model}_category_{cate_idx+1}_{method}_results.jsonl\"\n",
    "    \n",
    "    jailbreak_count = 0\n",
    "    row_count = 0\n",
    "    \n",
    "    with open(file_path, 'r') as file:\n",
    "        for line in file:\n",
    "            row = json.loads(line)\n",
    "            row_count += 1\n",
    "            if row.get('jailbreak') == 1:\n",
    "                jailbreak_count += 1\n",
    "    \n",
    "    print(f\"File: {file_path}\")\n",
    "    print(f\"Jailbreak count: {jailbreak_count}\")\n",
    "    print(f\"Total rows: {row_count}\")\n",
    "    \n",
    "    total_jailbreak_count += jailbreak_count\n",
    "    total_row_count += row_count\n",
    "\n",
    "\n",
    "# for cate_idx in range(args.harmfulness.main_category):\n",
    "#     file_path = f\"{folder_path}/{args.model_config.model}_category_{cate_idx}_{args.harmfulness.eval_method}_results.jsonl\"\n",
    "    \n",
    "#     jailbreak_count = 0\n",
    "#     row_count = 0\n",
    "    \n",
    "#     with open(file_path, 'r') as file:\n",
    "#         for line in file:\n",
    "#             row = json.loads(line)\n",
    "#             row_count += 1\n",
    "#             if row.get('jailbreak') == 1:\n",
    "#                 jailbreak_count += 1\n",
    "    \n",
    "#     print(f\"File: {file_path}\")\n",
    "#     print(f\"Jailbreak count: {jailbreak_count}\")\n",
    "#     print(f\"Total rows: {row_count}\")\n",
    "    \n",
    "#     total_jailbreak_count += jailbreak_count\n",
    "#     total_row_count += row_count"
   ]
  },
  {
   "cell_type": "code",
   "execution_count": 17,
   "metadata": {},
   "outputs": [
    {
     "data": {
      "text/plain": [
       "40"
      ]
     },
     "execution_count": 17,
     "metadata": {},
     "output_type": "execute_result"
    }
   ],
   "source": [
    "total_row_count"
   ]
  },
  {
   "cell_type": "code",
   "execution_count": null,
   "metadata": {},
   "outputs": [],
   "source": []
  }
 ],
 "metadata": {
  "kernelspec": {
   "display_name": "dt-test",
   "language": "python",
   "name": "python3"
  },
  "language_info": {
   "codemirror_mode": {
    "name": "ipython",
    "version": 3
   },
   "file_extension": ".py",
   "mimetype": "text/x-python",
   "name": "python",
   "nbconvert_exporter": "python",
   "pygments_lexer": "ipython3",
   "version": "3.9.18"
  },
  "orig_nbformat": 4
 },
 "nbformat": 4,
 "nbformat_minor": 2
}
